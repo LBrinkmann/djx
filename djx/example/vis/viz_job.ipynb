{
 "cells": [
  {
   "cell_type": "code",
   "execution_count": null,
   "metadata": {},
   "outputs": [],
   "source": [
    "%matplotlib inline\n",
    "from djx.record import get_plan_records_df\n",
    "import matplotlib.pyplot as plt\n",
    "import seaborn as sns"
   ]
  },
  {
   "cell_type": "code",
   "execution_count": null,
   "metadata": {},
   "outputs": [],
   "source": [
    "mdf = get_plan_records_df(66)\n",
    "mdf.head()"
   ]
  },
  {
   "cell_type": "code",
   "execution_count": null,
   "metadata": {},
   "outputs": [],
   "source": [
    "labels = ['labels.eta0', 'metrics.set']\n",
    "# w = (mdf[\"metrics.set\"] == 'test')\n",
    "complete_df = mdf.query('event_name == \"complete fit\"')[labels + ['metrics.accuracy']]"
   ]
  },
  {
   "cell_type": "code",
   "execution_count": null,
   "metadata": {},
   "outputs": [],
   "source": [
    "complete_df.groupby(labels).agg(['min', 'max', 'mean'])"
   ]
  },
  {
   "cell_type": "code",
   "execution_count": null,
   "metadata": {},
   "outputs": [],
   "source": [
    "# partial_df = partial_df.groupby(labels + ['context.datasize']).mean().reset_index()\n",
    "# partial_df['label_str'] = partial_group_df[labels].astype(str).apply(lambda x: ' | '.join(x), axis=1)"
   ]
  },
  {
   "cell_type": "code",
   "execution_count": null,
   "metadata": {},
   "outputs": [],
   "source": [
    "plt.figure(figsize=(10,10))\n",
    "partial_df = mdf.query('event_name == \"partial fit\"').copy()\n",
    "partial_df['cv_str'] = 'cv_' +partial_df['context.cross_val_split'].astype(str)\n",
    "w = (partial_df[\"metrics.set\"] == 'test') & (partial_df[\"context.cross_val_split\"] == 0)\n",
    "w = (partial_df[\"metrics.set\"] == 'test')\n",
    "sns.lineplot(data=partial_df, x='context.datasize', y='metrics.accuracy', hue='cv_str', style='metrics.set')"
   ]
  },
  {
   "cell_type": "code",
   "execution_count": null,
   "metadata": {},
   "outputs": [],
   "source": [
    "partial_df"
   ]
  },
  {
   "cell_type": "code",
   "execution_count": null,
   "metadata": {},
   "outputs": [],
   "source": [
    "from sklearn.linear_model import LogisticRegression\n",
    "from sklearn import datasets\n",
    "from sklearn.model_selection import cross_val_score\n",
    "from sklearn.linear_model import SGDClassifier\n",
    "from sklearn.preprocessing import normalize\n",
    "from sklearn.datasets import fetch_openml\n",
    "X, y = fetch_openml('mnist_784', version=1, return_X_y=True)\n",
    "\n",
    "\n",
    "setting = {\n",
    "#     'alpha': 0.1,\n",
    "#     'l1_ratio': 0.0,\n",
    "    'loss': 'log',\n",
    "    'learning_rate': 'constant',\n",
    "#     'penalty': 'l2',\n",
    "    'eta0': 0.0001,\n",
    "    'max_iter': 10,\n",
    "    'tol': 1e5\n",
    "}\n",
    "\n",
    "\n",
    "# import some data to play with\n",
    "# iris = datasets.load_iris()\n",
    "# X = iris.data[:, :3]  # we only take the first two features.\n",
    "# y = iris.target\n",
    "\n",
    "X = normalize(X)\n",
    "\n",
    "# logreg = SGDClassifier(**setting)\n",
    "logreg = LogisticRegression(solver='lbfgs', multi_class='auto')\n",
    "\n",
    "print(cross_val_score(logreg, X, y, cv=3)) "
   ]
  },
  {
   "cell_type": "code",
   "execution_count": null,
   "metadata": {},
   "outputs": [],
   "source": [
    "from sklearn.datasets import fetch_openml\n",
    "X, y = fetch_openml('mnist_784', version=1, return_X_y=True)\n"
   ]
  },
  {
   "cell_type": "code",
   "execution_count": null,
   "metadata": {},
   "outputs": [],
   "source": [
    "X = normalize(X)"
   ]
  },
  {
   "cell_type": "code",
   "execution_count": null,
   "metadata": {},
   "outputs": [],
   "source": [
    "X"
   ]
  },
  {
   "cell_type": "code",
   "execution_count": null,
   "metadata": {},
   "outputs": [],
   "source": [
    "y"
   ]
  },
  {
   "cell_type": "code",
   "execution_count": null,
   "metadata": {},
   "outputs": [],
   "source": []
  }
 ],
 "metadata": {
  "kernelspec": {
   "display_name": "Python 3",
   "language": "python",
   "name": "python3"
  },
  "language_info": {
   "codemirror_mode": {
    "name": "ipython",
    "version": 3
   },
   "file_extension": ".py",
   "mimetype": "text/x-python",
   "name": "python",
   "nbconvert_exporter": "python",
   "pygments_lexer": "ipython3",
   "version": "3.6.4"
  }
 },
 "nbformat": 4,
 "nbformat_minor": 2
}
